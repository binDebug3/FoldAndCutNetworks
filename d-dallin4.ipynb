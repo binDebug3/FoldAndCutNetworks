{
 "cells": [
  {
   "cell_type": "code",
   "execution_count": 33,
   "metadata": {},
   "outputs": [
    {
     "name": "stdout",
     "output_type": "stream",
     "text": [
      "Biggest model: 994112\n",
      "[104, 163, 240, 347, 496, 705]\n"
     ]
    }
   ],
   "source": [
    "def layer_widths(layers:list, n_features:int, n_classes:int, \n",
    "                 min_size:int=4, scale:int=2, repeat:int=6) -> list:\n",
    "    \n",
    "    count_linear = sum([1 for layer in layers if layer == 'linear'])\n",
    "    count_fold = sum([1 for layer in layers if layer == 'fold'])\n",
    "    \n",
    "    widths = []\n",
    "    for i in range(repeat):\n",
    "        n_params = int(n_features * n_classes * min_size * scale**i)\n",
    "        n_params -= count_fold * n_features\n",
    "        n_params -= n_classes * n_features\n",
    "        width = int((n_params // (count_linear - 1)) ** 0.5)\n",
    "        widths.append(width)\n",
    "    print(\"Biggest model:\", int(n_params))\n",
    "    return widths\n",
    "        \n",
    "print(layer_widths(['linear', 'fold', 'linear', 'fold', 'linear'], 784, 10))"
   ]
  }
 ],
 "metadata": {
  "kernelspec": {
   "display_name": "Python 3",
   "language": "python",
   "name": "python3"
  },
  "language_info": {
   "codemirror_mode": {
    "name": "ipython",
    "version": 3
   },
   "file_extension": ".py",
   "mimetype": "text/x-python",
   "name": "python",
   "nbconvert_exporter": "python",
   "pygments_lexer": "ipython3",
   "version": "3.11.5"
  }
 },
 "nbformat": 4,
 "nbformat_minor": 2
}
