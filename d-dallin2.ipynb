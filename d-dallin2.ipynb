{
 "cells": [
  {
   "cell_type": "code",
   "execution_count": 1,
   "metadata": {},
   "outputs": [],
   "source": [
    "import numpy as np\n",
    "from matplotlib import pyplot as plt\n",
    "import plotly.graph_objs as go\n",
    "import plotly.io as pio\n",
    "from plotly.subplots import make_subplots\n",
    "from tqdm import tqdm\n",
    "import pickle\n",
    "import copy\n",
    "from sklearn.model_selection import train_test_split\n",
    "from models.pytorch_model import OrigamiNetwork\n",
    "from vis_helpers import *"
   ]
  },
  {
   "cell_type": "code",
   "execution_count": 2,
   "metadata": {},
   "outputs": [],
   "source": [
    "def layer_sam(D, n):\n",
    "    scales = (D@n)/np.dot(n, n)\n",
    "    mask = scales > 1\n",
    "    return D + mask[:,np.newaxis] * (2*n - (2 * np.outer(scales, n)))\n",
    "fv1 = np.array([0,.5])\n",
    "size = 10\n",
    "X1, X2 = np.meshgrid(np.linspace(-2,2,size), np.linspace(-2,2,size))\n",
    "sandwichX = np.concatenate((X1.reshape(-1,1), X2.reshape(-1,1)), axis=1)\n",
    "sandwichY = layer_sam(sandwichX, fv1)[:,1] > -.5\n",
    "# plt.scatter(sandwichX[:,0], sandwichX[:,1], c=sandwichY)\n",
    "\n",
    "size = 100\n",
    "x1 = np.linspace(-2,2,size)\n",
    "x2 = np.linspace(-2,2,size)\n",
    "X1,X2 = np.meshgrid(x1,x2)\n",
    "xorX = np.concatenate((X1.reshape(-1,1),X2.reshape(-1,1)),axis=1)\n",
    "xorY = np.array([[1 if (i < size//2 and j < size//2 or i >= size//2 and j >= size//2) else 0 for j in range(size)] for i in range(size)]).reshape(-1)\n",
    "# plt.scatter(xorX[:,0], xorX[:,1], c=xorY)\n",
    "\n",
    "count = 20\n",
    "onedX = np.linspace(-2,2,count)\n",
    "onedY = np.zeros(count)\n",
    "onedY[:6] = 1\n",
    "onedY[-6:] = 1\n",
    "onedX = np.expand_dims(onedX, axis=1)"
   ]
  },
  {
   "cell_type": "code",
   "execution_count": 3,
   "metadata": {},
   "outputs": [
    {
     "name": "stdout",
     "output_type": "stream",
     "text": [
      "Testing XOR problem\n"
     ]
    },
    {
     "ename": "TypeError",
     "evalue": "OrigamiNetwork.__init__() got an unexpected keyword argument 'layers'",
     "output_type": "error",
     "traceback": [
      "\u001b[1;31m---------------------------------------------------------------------------\u001b[0m",
      "\u001b[1;31mTypeError\u001b[0m                                 Traceback (most recent call last)",
      "Cell \u001b[1;32mIn[3], line 5\u001b[0m\n\u001b[0;32m      2\u001b[0m test_case_y \u001b[38;5;241m=\u001b[39m sandwichY\n\u001b[0;32m      3\u001b[0m \u001b[38;5;28mprint\u001b[39m(\u001b[38;5;124m\"\u001b[39m\u001b[38;5;124mTesting XOR problem\u001b[39m\u001b[38;5;124m\"\u001b[39m)\n\u001b[1;32m----> 5\u001b[0m test \u001b[38;5;241m=\u001b[39m OrigamiNetwork(layers\u001b[38;5;241m=\u001b[39m\u001b[38;5;241m1\u001b[39m, width\u001b[38;5;241m=\u001b[39m\u001b[38;5;28;01mNone\u001b[39;00m, epochs\u001b[38;5;241m=\u001b[39m\u001b[38;5;241m500\u001b[39m, learning_rate\u001b[38;5;241m=\u001b[39m\u001b[38;5;241m0.0001\u001b[39m, optimizer\u001b[38;5;241m=\u001b[39m\u001b[38;5;124m\"\u001b[39m\u001b[38;5;124mgrad\u001b[39m\u001b[38;5;124m\"\u001b[39m, reg\u001b[38;5;241m=\u001b[39m\u001b[38;5;241m0\u001b[39m, leak\u001b[38;5;241m=\u001b[39m\u001b[38;5;241m0.08\u001b[39m)\n\u001b[0;32m      6\u001b[0m test\u001b[38;5;241m.\u001b[39moutput_layer \u001b[38;5;241m=\u001b[39m np\u001b[38;5;241m.\u001b[39marray([[\u001b[38;5;241m-\u001b[39m\u001b[38;5;241m0.96438805\u001b[39m, \u001b[38;5;241m0.36995705\u001b[39m],\n\u001b[0;32m      7\u001b[0m                                 [\u001b[38;5;241m-\u001b[39m\u001b[38;5;241m1.13132166\u001b[39m ,\u001b[38;5;241m-\u001b[39m\u001b[38;5;241m1.41350615\u001b[39m]])\n\u001b[0;32m      8\u001b[0m test\u001b[38;5;241m.\u001b[39mb \u001b[38;5;241m=\u001b[39m np\u001b[38;5;241m.\u001b[39marray([\u001b[38;5;241m0.95990296\u001b[39m, \u001b[38;5;241m0.72748519\u001b[39m])\n",
      "\u001b[1;31mTypeError\u001b[0m: OrigamiNetwork.__init__() got an unexpected keyword argument 'layers'"
     ]
    }
   ],
   "source": [
    "test_case_x = sandwichX\n",
    "test_case_y = sandwichY\n",
    "print(\"Testing XOR problem\")\n",
    "\n",
    "test = OrigamiNetwork(n_layers=1, width=None, epochs=500, learning_rate=0.0001, optimizer_type=\"grad\", reg=0, leak=0.08)\n",
    "test.output_layer = np.array([[-0.96438805, 0.36995705],\n",
    "                                [-1.13132166 ,-1.41350615]])\n",
    "test.b = np.array([0.95990296, 0.72748519])\n",
    "test.fold_vectors = np.array([[1., 0.25],])\n",
    "                            #   [0.01, 0.01]])\n",
    "histories = test.fit(test_case_x, test_case_y, freeze_cut=True, freeze_folds=False)\n",
    "out = test.forward_pass(test_case_x)\n",
    "\n",
    "print(\"\\nScore =\", test.score(), \"after training\")\n",
    "print(\"Cut\", test.output_layer, test.b, \"Fold vectors\", test.fold_vectors, sep=\"\\n\")"
   ]
  },
  {
   "cell_type": "code",
   "execution_count": null,
   "metadata": {},
   "outputs": [],
   "source": [
    "plot_wiggles(layer=0, histories)"
   ]
  },
  {
   "cell_type": "code",
   "execution_count": null,
   "metadata": {},
   "outputs": [],
   "source": [
    "plot_history(test, verbose=2)"
   ]
  },
  {
   "cell_type": "code",
   "execution_count": null,
   "metadata": {},
   "outputs": [],
   "source": [
    "max_score, best_folds = test.iscore_landscape(score_layers=None, create_plot=True, density=31, verbose=1, learning=False)\n",
    "print(test.output_layer)"
   ]
  }
 ],
 "metadata": {
  "kernelspec": {
   "display_name": "Python 3",
   "language": "python",
   "name": "python3"
  },
  "language_info": {
   "codemirror_mode": {
    "name": "ipython",
    "version": 3
   },
   "file_extension": ".py",
   "mimetype": "text/x-python",
   "name": "python",
   "nbconvert_exporter": "python",
   "pygments_lexer": "ipython3",
   "version": "3.11.5"
  }
 },
 "nbformat": 4,
 "nbformat_minor": 2
}
