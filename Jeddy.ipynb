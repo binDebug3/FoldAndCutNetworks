{
 "cells": [
  {
   "cell_type": "code",
   "execution_count": 1,
   "id": "17257a42",
   "metadata": {},
   "outputs": [],
   "source": [
    "# Class dependencies\n",
    "import numpy as np\n",
    "from matplotlib import pyplot as plt\n",
    "from scipy.optimize import minimize\n",
    "from sklearn.metrics import accuracy_score\n",
    "from tqdm import tqdm\n",
    "import pickle\n",
    "\n",
    "\n",
    "# Other analysis libraries\n",
    "from sklearn.model_selection import train_test_split\n",
    "from sklearn.metrics import confusion_matrix\n",
    "import matplotlib.animation as animation\n",
    "from matplotlib.animation import FuncAnimation\n",
    "from model_jeddy import OrigamiNetwork"
   ]
  },
  {
   "cell_type": "code",
   "execution_count": 2,
   "id": "53c1ae87",
   "metadata": {},
   "outputs": [],
   "source": [
    "def layer(D, n):\n",
    "    scales = (D@n)/np.dot(n, n)\n",
    "    mask = scales > 1\n",
    "    projected = 2 * np.outer(scales, n)\n",
    "    adjustment = 2*n - projected\n",
    "    return D + mask[:,np.newaxis] * adjustment"
   ]
  },
  {
   "cell_type": "code",
   "execution_count": 3,
   "id": "d4b35b84",
   "metadata": {},
   "outputs": [],
   "source": [
    "fv1 = .5*np.array([1,1])\n",
    "fv2 = np.array([-1,1])\n",
    "fv3 = np.array([-.85,0])\n",
    "size = 20\n",
    "\n",
    "# make a meshgrid of x and y values\n",
    "x1 = np.linspace(-2,2,size)\n",
    "x2 = np.linspace(-2,2,size)\n",
    "X1,X2 = np.meshgrid(x1,x2)\n",
    "\n",
    "# reshape the meshgrid into a 2D array and concatenate them\n",
    "X1 = X1.reshape(-1,1)\n",
    "X2 = X2.reshape(-1,1)\n",
    "pairs = np.concatenate((X1,X2),axis=1)\n",
    "cut1 = layer(pairs, fv1)\n",
    "cut2 = layer(cut1, fv2)\n",
    "cut = layer(cut2, fv3)\n",
    "Y = cut[:,1] > .6"
   ]
  },
  {
   "cell_type": "code",
   "execution_count": 4,
   "id": "d0ad5b6b",
   "metadata": {},
   "outputs": [
    {
     "name": "stderr",
     "output_type": "stream",
     "text": [
      "\r",
      "Training Progress:   0%|                               | 0/1000 [00:00<?, ?it/s]"
     ]
    },
    {
     "name": "stdout",
     "output_type": "stream",
     "text": [
      "(400,)\n"
     ]
    },
    {
     "ename": "ValueError",
     "evalue": "shapes (400,) and (2,2) not aligned: 400 (dim 0) != 2 (dim 0)",
     "output_type": "error",
     "traceback": [
      "\u001b[0;31m---------------------------------------------------------------------------\u001b[0m",
      "\u001b[0;31mValueError\u001b[0m                                Traceback (most recent call last)",
      "Cell \u001b[0;32mIn[4], line 2\u001b[0m\n\u001b[1;32m      1\u001b[0m test \u001b[38;5;241m=\u001b[39m OrigamiNetwork(layers\u001b[38;5;241m=\u001b[39m\u001b[38;5;241m5\u001b[39m, max_iter\u001b[38;5;241m=\u001b[39m\u001b[38;5;241m1000\u001b[39m, learning_rate\u001b[38;5;241m=\u001b[39m\u001b[38;5;241m0.01\u001b[39m, optimizer\u001b[38;5;241m=\u001b[39m\u001b[38;5;124m\"\u001b[39m\u001b[38;5;124mgrad\u001b[39m\u001b[38;5;124m\"\u001b[39m, reg\u001b[38;5;241m=\u001b[39m\u001b[38;5;241m0\u001b[39m)\n\u001b[0;32m----> 2\u001b[0m fold_history \u001b[38;5;241m=\u001b[39m \u001b[43mtest\u001b[49m\u001b[38;5;241;43m.\u001b[39;49m\u001b[43mfit\u001b[49m\u001b[43m(\u001b[49m\u001b[43mpairs\u001b[49m\u001b[43m,\u001b[49m\u001b[43m \u001b[49m\u001b[43mY\u001b[49m\u001b[43m)\u001b[49m\n\u001b[1;32m      3\u001b[0m out \u001b[38;5;241m=\u001b[39m test\u001b[38;5;241m.\u001b[39mforward_pass(pairs)\n\u001b[1;32m      4\u001b[0m \u001b[38;5;28mprint\u001b[39m(\u001b[38;5;124m\"\u001b[39m\u001b[38;5;124mBefore handpicked folds\u001b[39m\u001b[38;5;124m\"\u001b[39m)\n",
      "File \u001b[0;32m~/Documents/FoldAndCutNetworks/model_jeddy.py:419\u001b[0m, in \u001b[0;36mOrigamiNetwork.fit\u001b[0;34m(self, X, y, X_val_set, y_val_set, verbose)\u001b[0m\n\u001b[1;32m    417\u001b[0m     \u001b[38;5;28;01mraise\u001b[39;00m \u001b[38;5;167;01mValueError\u001b[39;00m(\u001b[38;5;124m\"\u001b[39m\u001b[38;5;124mStochastic Gradient Descent is not implemented yet\u001b[39m\u001b[38;5;124m\"\u001b[39m)\n\u001b[1;32m    418\u001b[0m \u001b[38;5;28;01melif\u001b[39;00m \u001b[38;5;28mself\u001b[39m\u001b[38;5;241m.\u001b[39moptimizer \u001b[38;5;241m==\u001b[39m \u001b[38;5;124m\"\u001b[39m\u001b[38;5;124mgrad\u001b[39m\u001b[38;5;124m\"\u001b[39m:\n\u001b[0;32m--> 419\u001b[0m     \u001b[38;5;28;43mself\u001b[39;49m\u001b[38;5;241;43m.\u001b[39;49m\u001b[43mgradient_descent\u001b[49m\u001b[43m(\u001b[49m\u001b[43mverbose\u001b[49m\u001b[38;5;241;43m=\u001b[39;49m\u001b[43mverbose\u001b[49m\u001b[43m)\u001b[49m\n\u001b[1;32m    421\u001b[0m \u001b[38;5;66;03m# Otherwise, raise an error\u001b[39;00m\n\u001b[1;32m    422\u001b[0m \u001b[38;5;28;01melse\u001b[39;00m:\n\u001b[1;32m    423\u001b[0m     \u001b[38;5;28;01mraise\u001b[39;00m \u001b[38;5;167;01mValueError\u001b[39;00m(\u001b[38;5;124m\"\u001b[39m\u001b[38;5;124mOptimizer must be \u001b[39m\u001b[38;5;124m'\u001b[39m\u001b[38;5;124msgd\u001b[39m\u001b[38;5;124m'\u001b[39m\u001b[38;5;124m or \u001b[39m\u001b[38;5;124m'\u001b[39m\u001b[38;5;124mgrad\u001b[39m\u001b[38;5;124m'\u001b[39m\u001b[38;5;124m\"\u001b[39m)\n",
      "File \u001b[0;32m~/Documents/FoldAndCutNetworks/model_jeddy.py:297\u001b[0m, in \u001b[0;36mOrigamiNetwork.gradient_descent\u001b[0;34m(self, verbose)\u001b[0m\n\u001b[1;32m    260\u001b[0m \u001b[38;5;66;03m# for i in range(self.max_iter):\u001b[39;00m\n\u001b[1;32m    261\u001b[0m \u001b[38;5;66;03m#     gradient = self.back_propagation(np.arange(self.n))\u001b[39;00m\n\u001b[1;32m    262\u001b[0m     \n\u001b[0;32m   (...)\u001b[0m\n\u001b[1;32m    293\u001b[0m \u001b[38;5;66;03m#     progress.update(1)\u001b[39;00m\n\u001b[1;32m    294\u001b[0m \u001b[38;5;66;03m# progress.close()\u001b[39;00m\n\u001b[1;32m    295\u001b[0m \u001b[38;5;28;01mfor\u001b[39;00m i \u001b[38;5;129;01min\u001b[39;00m \u001b[38;5;28mrange\u001b[39m(\u001b[38;5;28mself\u001b[39m\u001b[38;5;241m.\u001b[39mmax_iter):\n\u001b[1;32m    296\u001b[0m     \u001b[38;5;66;03m# Get the gradient\u001b[39;00m\n\u001b[0;32m--> 297\u001b[0m     gradient \u001b[38;5;241m=\u001b[39m \u001b[38;5;28;43mself\u001b[39;49m\u001b[38;5;241;43m.\u001b[39;49m\u001b[43mback_propagation\u001b[49m\u001b[43m(\u001b[49m\u001b[43mnp\u001b[49m\u001b[38;5;241;43m.\u001b[39;49m\u001b[43marange\u001b[49m\u001b[43m(\u001b[49m\u001b[38;5;28;43mself\u001b[39;49m\u001b[38;5;241;43m.\u001b[39;49m\u001b[43mn\u001b[49m\u001b[43m)\u001b[49m\u001b[43m)\u001b[49m\n\u001b[1;32m    299\u001b[0m     \u001b[38;5;66;03m# Clip any gradients that are too large\u001b[39;00m\n\u001b[1;32m    300\u001b[0m     max_norm \u001b[38;5;241m=\u001b[39m \u001b[38;5;241m5.0\u001b[39m\n",
      "File \u001b[0;32m~/Documents/FoldAndCutNetworks/model_jeddy.py:238\u001b[0m, in \u001b[0;36mOrigamiNetwork.back_propagation\u001b[0;34m(self, indices)\u001b[0m\n\u001b[1;32m    235\u001b[0m gradient\u001b[38;5;241m.\u001b[39mappend(db)\n\u001b[1;32m    237\u001b[0m \u001b[38;5;66;03m# Calculate the gradients of each fold using the forward propogation\u001b[39;00m\n\u001b[0;32m--> 238\u001b[0m fold_grads \u001b[38;5;241m=\u001b[39m [\u001b[38;5;28mself\u001b[39m\u001b[38;5;241m.\u001b[39mderivative_fold(forward[i], \u001b[38;5;28mself\u001b[39m\u001b[38;5;241m.\u001b[39mfold_vectors[i]) \u001b[38;5;28;01mfor\u001b[39;00m i \u001b[38;5;129;01min\u001b[39;00m \u001b[38;5;28mrange\u001b[39m(\u001b[38;5;28mself\u001b[39m\u001b[38;5;241m.\u001b[39mlayers)]\n\u001b[1;32m    240\u001b[0m \u001b[38;5;66;03m# Perform the back propogation for the folds\u001b[39;00m\n\u001b[1;32m    241\u001b[0m backprop_start \u001b[38;5;241m=\u001b[39m outer_layer \u001b[38;5;241m@\u001b[39m \u001b[38;5;28mself\u001b[39m\u001b[38;5;241m.\u001b[39moutput_layer\n",
      "File \u001b[0;32m~/Documents/FoldAndCutNetworks/model_jeddy.py:238\u001b[0m, in \u001b[0;36m<listcomp>\u001b[0;34m(.0)\u001b[0m\n\u001b[1;32m    235\u001b[0m gradient\u001b[38;5;241m.\u001b[39mappend(db)\n\u001b[1;32m    237\u001b[0m \u001b[38;5;66;03m# Calculate the gradients of each fold using the forward propogation\u001b[39;00m\n\u001b[0;32m--> 238\u001b[0m fold_grads \u001b[38;5;241m=\u001b[39m [\u001b[38;5;28;43mself\u001b[39;49m\u001b[38;5;241;43m.\u001b[39;49m\u001b[43mderivative_fold\u001b[49m\u001b[43m(\u001b[49m\u001b[43mforward\u001b[49m\u001b[43m[\u001b[49m\u001b[43mi\u001b[49m\u001b[43m]\u001b[49m\u001b[43m,\u001b[49m\u001b[43m \u001b[49m\u001b[38;5;28;43mself\u001b[39;49m\u001b[38;5;241;43m.\u001b[39;49m\u001b[43mfold_vectors\u001b[49m\u001b[43m[\u001b[49m\u001b[43mi\u001b[49m\u001b[43m]\u001b[49m\u001b[43m)\u001b[49m \u001b[38;5;28;01mfor\u001b[39;00m i \u001b[38;5;129;01min\u001b[39;00m \u001b[38;5;28mrange\u001b[39m(\u001b[38;5;28mself\u001b[39m\u001b[38;5;241m.\u001b[39mlayers)]\n\u001b[1;32m    240\u001b[0m \u001b[38;5;66;03m# Perform the back propogation for the folds\u001b[39;00m\n\u001b[1;32m    241\u001b[0m backprop_start \u001b[38;5;241m=\u001b[39m outer_layer \u001b[38;5;241m@\u001b[39m \u001b[38;5;28mself\u001b[39m\u001b[38;5;241m.\u001b[39moutput_layer\n",
      "File \u001b[0;32m~/Documents/FoldAndCutNetworks/model_jeddy.py:165\u001b[0m, in \u001b[0;36mOrigamiNetwork.derivative_fold\u001b[0;34m(self, Z, n)\u001b[0m\n\u001b[1;32m    161\u001b[0m identity \u001b[38;5;241m=\u001b[39m np\u001b[38;5;241m.\u001b[39meye(\u001b[38;5;28mself\u001b[39m\u001b[38;5;241m.\u001b[39mwidth)\n\u001b[1;32m    163\u001b[0m \u001b[38;5;66;03m# Use broadcasting to apply scales along the first axis\u001b[39;00m\n\u001b[1;32m    164\u001b[0m \u001b[38;5;66;03m#first_component = (1 - scales)[:, np.newaxis, np.newaxis] * identity\u001b[39;00m\n\u001b[0;32m--> 165\u001b[0m first_component \u001b[38;5;241m=\u001b[39m \u001b[38;5;28mself\u001b[39m\u001b[38;5;241m.\u001b[39mgelu(p) \u001b[38;5;241m*\u001b[39m \u001b[43mnp\u001b[49m\u001b[38;5;241;43m.\u001b[39;49m\u001b[43mdot\u001b[49m\u001b[43m(\u001b[49m\u001b[43m(\u001b[49m\u001b[38;5;241;43m1\u001b[39;49m\u001b[43m \u001b[49m\u001b[38;5;241;43m-\u001b[39;49m\u001b[43m \u001b[49m\u001b[43mscales\u001b[49m\u001b[43m)\u001b[49m\u001b[43m,\u001b[49m\u001b[43m \u001b[49m\u001b[43midentity\u001b[49m\u001b[43m)\u001b[49m \u001b[38;5;241m+\u001b[39m np\u001b[38;5;241m.\u001b[39mouter(n_normal, (\u001b[38;5;241m2\u001b[39m\u001b[38;5;241m*\u001b[39m(np\u001b[38;5;241m.\u001b[39mdot(n, Z) \u001b[38;5;241m*\u001b[39m n_normal \u001b[38;5;241m-\u001b[39m Z)))\n\u001b[1;32m    167\u001b[0m \u001b[38;5;66;03m# Calculate the outer product of n and helper, then subtract the input\u001b[39;00m\n\u001b[1;32m    168\u001b[0m outer_product \u001b[38;5;241m=\u001b[39m np\u001b[38;5;241m.\u001b[39mouter(\u001b[38;5;241m2\u001b[39m \u001b[38;5;241m*\u001b[39m scales, n_normal) \u001b[38;5;241m-\u001b[39m Z\n",
      "File \u001b[0;32m<__array_function__ internals>:180\u001b[0m, in \u001b[0;36mdot\u001b[0;34m(*args, **kwargs)\u001b[0m\n",
      "\u001b[0;31mValueError\u001b[0m: shapes (400,) and (2,2) not aligned: 400 (dim 0) != 2 (dim 0)"
     ]
    }
   ],
   "source": [
    "test = OrigamiNetwork(layers=5, max_iter=1000, learning_rate=0.01, optimizer=\"grad\", reg=0)\n",
    "fold_history = test.fit(pairs, Y)\n",
    "out = test.forward_pass(pairs)\n",
    "print(\"Before handpicked folds\")\n",
    "print(test.score())"
   ]
  },
  {
   "cell_type": "code",
   "execution_count": null,
   "id": "317ce679",
   "metadata": {},
   "outputs": [],
   "source": []
  }
 ],
 "metadata": {
  "kernelspec": {
   "display_name": "Python 3 (ipykernel)",
   "language": "python",
   "name": "python3"
  },
  "language_info": {
   "codemirror_mode": {
    "name": "ipython",
    "version": 3
   },
   "file_extension": ".py",
   "mimetype": "text/x-python",
   "name": "python",
   "nbconvert_exporter": "python",
   "pygments_lexer": "ipython3",
   "version": "3.8.8"
  }
 },
 "nbformat": 4,
 "nbformat_minor": 5
}
