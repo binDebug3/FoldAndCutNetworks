{
 "cells": [
  {
   "cell_type": "code",
   "execution_count": 22,
   "metadata": {},
   "outputs": [],
   "source": [
    "# Class dependencies\n",
    "from model_sam import OrigamiNetwork\n",
    "import numpy as np\n",
    "from matplotlib import pyplot as plt\n",
    "from scipy.optimize import minimize\n",
    "from sklearn.metrics import accuracy_score\n",
    "from tqdm import tqdm\n",
    "import pickle\n",
    "\n",
    "\n",
    "# Other analysis libraries\n",
    "from sklearn.model_selection import train_test_split\n",
    "from sklearn.metrics import confusion_matrix\n",
    "import matplotlib.animation as animation\n",
    "from matplotlib.animation import FuncAnimation\n",
    "from sklearn.datasets import load_digits"
   ]
  },
  {
   "cell_type": "code",
   "execution_count": 23,
   "metadata": {},
   "outputs": [
    {
     "name": "stderr",
     "output_type": "stream",
     "text": [
      "Epoch 1000/1000: 100%|██████████| 1000/1000 [00:01<00:00, 589.55it/s]\n"
     ]
    },
    {
     "name": "stdout",
     "output_type": "stream",
     "text": [
      "0.9666666666666667\n"
     ]
    }
   ],
   "source": [
    "# import small digits dataset\n",
    "\n",
    "digits = load_digits()\n",
    "X = digits.data\n",
    "y = digits.target\n",
    "\n",
    "# split the data\n",
    "X_train, X_test, y_train, y_test = train_test_split(X, y, test_size=0.2)\n",
    "\n",
    "# set up the model\n",
    "model = OrigamiNetwork(layers=0, epochs=1000, optimizer='sgd',learning_rate=0.001)\n",
    "model.fit(X_train, y_train)\n",
    "\n",
    "# get the predictions\n",
    "y_hat = model.predict(X_test)\n",
    "print(accuracy_score(y_test, y_hat))\n"
   ]
  },
  {
   "cell_type": "code",
   "execution_count": 24,
   "metadata": {},
   "outputs": [
    {
     "data": {
      "text/plain": [
       "[<matplotlib.lines.Line2D at 0x13cefe6c0>]"
      ]
     },
     "execution_count": 24,
     "metadata": {},
     "output_type": "execute_result"
    },
    {
     "data": {
      "image/png": "[encoded data removed]",
      "text/plain": [
       "<Figure size 640x480 with 1 Axes>"
      ]
     },
     "metadata": {},
     "output_type": "display_data"
    }
   ],
   "source": [
    "plt.plot(model.learning_rate_history)"
   ]
  },
  {
   "cell_type": "code",
   "execution_count": 25,
   "metadata": {},
   "outputs": [
    {
     "name": "stdout",
     "output_type": "stream",
     "text": [
      "4950\n",
      "begin\n",
      "[16, 9, 88, 39, 24, 60, 32, 91, 0, 37, 96, 92, 77, 54, 57, 20, 44]\n",
      "17\n",
      "\n",
      "[90, 81, 95, 97, 71, 84, 94, 70, 26, 61, 1, 27, 36, 45, 42, 53, 33]\n",
      "17\n",
      "\n",
      "[21, 46, 3, 56, 12, 28, 29, 2, 99, 18, 89, 65, 35, 49, 23, 58, 41]\n",
      "17\n",
      "\n",
      "[83, 17, 72, 63, 55, 11, 82, 5, 15, 67, 69, 19, 25, 64, 73, 52, 51]\n",
      "17\n",
      "\n",
      "[68, 38, 10, 75, 79, 13, 30, 6, 22, 4, 80, 7, 47, 74, 85, 86]\n",
      "16\n",
      "\n",
      "[98, 43, 59, 76, 31, 50, 87, 34, 66, 14, 78, 40, 93, 8, 62, 48]\n",
      "16\n",
      "\n",
      "4950\n"
     ]
    }
   ],
   "source": [
    "n = 100\n",
    "batch_size = 15\n",
    "\n",
    "def get_batches(n, batch_size):\n",
    "    indices = np.arange(n)\n",
    "    print(np.sum(indices))\n",
    "    print(\"begin\")\n",
    "    np.random.shuffle(indices)\n",
    "    num_batches = n // batch_size\n",
    "\n",
    "    # Loop through the different batches and get the batches\n",
    "    batches = [indices[i*batch_size:(i+1)*batch_size].tolist() for i in range(num_batches)]\n",
    "\n",
    "    # Handle the remaining points\n",
    "    remaining_points = indices[num_batches*batch_size:]\n",
    "    counter = len(remaining_points)\n",
    "    i = 0\n",
    "\n",
    "    # Fill the remaining points into the batches\n",
    "    while counter > 0:\n",
    "        batches[i % len(batches)].append(remaining_points[i])\n",
    "        i += 1\n",
    "        counter -= 1\n",
    "\n",
    "    # Return the batches\n",
    "    return batches\n",
    "\n",
    "\n",
    "batches = get_batches(n, batch_size)\n",
    "total = 0\n",
    "for batch in batches:\n",
    "    print(batch)\n",
    "    print(len(batch))\n",
    "    print()\n",
    "    total += np.sum(batch)\n",
    "    \n",
    "print(total)\n",
    "\n",
    "\n",
    "def randomize_batches(self):\n",
    "    \"\"\"\n",
    "    Randomize the batches for stochastic gradient descent\n",
    "    Parameters:\n",
    "        None\n",
    "    Returns:\n",
    "        batches (list) - A list of batches of indices for training\n",
    "    \"\"\"\n",
    "    # Get randomized indices and calculate the number of batches\n",
    "    indices = np.arange(self.n)\n",
    "    np.random.shuffle(indices)\n",
    "    num_batches = self.n // self.batch_size\n",
    "\n",
    "    # Loop through the different batches and get the batches\n",
    "    batches = [indices[i*self.batch_size:(i+1)*self.batch_size].tolist() for i in range(num_batches)]\n",
    "\n",
    "    # Handle the remaining points\n",
    "    remaining_points = indices[num_batches*self.batch_size:]\n",
    "    counter = len(remaining_points)\n",
    "    i = 0\n",
    "\n",
    "    # Fill the remaining points into the batches\n",
    "    while counter > 0:\n",
    "        batches[i % len(batches)].append(remaining_points[i])\n",
    "        i += 1\n",
    "        counter -= 1\n",
    "\n",
    "    # Return the batches\n",
    "    return batches"
   ]
  }
 ],
 "metadata": {
  "kernelspec": {
   "display_name": "general_ml",
   "language": "python",
   "name": "python3"
  },
  "language_info": {
   "codemirror_mode": {
    "name": "ipython",
    "version": 3
   },
   "file_extension": ".py",
   "mimetype": "text/x-python",
   "name": "python",
   "nbconvert_exporter": "python",
   "pygments_lexer": "ipython3",
   "version": "3.12.4"
  }
 },
 "nbformat": 4,
 "nbformat_minor": 2
}
