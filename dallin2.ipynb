{
 "cells": [
  {
   "cell_type": "code",
   "execution_count": null,
   "metadata": {},
   "outputs": [],
   "source": [
    "import numpy as np\n",
    "from matplotlib import pyplot as plt\n",
    "import plotly.graph_objs as go\n",
    "import plotly.io as pio\n",
    "from plotly.subplots import make_subplots\n",
    "from tqdm import tqdm\n",
    "import pickle\n",
    "import copy\n",
    "from sklearn.model_selection import train_test_split\n",
    "from pytorch_model import OrigamiNetwork"
   ]
  },
  {
   "cell_type": "code",
   "execution_count": null,
   "metadata": {},
   "outputs": [],
   "source": [
    "def layer_sam(D, n):\n",
    "    scales = (D@n)/np.dot(n, n)\n",
    "    mask = scales > 1\n",
    "    return D + mask[:,np.newaxis] * (2*n - (2 * np.outer(scales, n)))\n",
    "fv1 = np.array([0,.5])\n",
    "size = 10\n",
    "X1, X2 = np.meshgrid(np.linspace(-2,2,size), np.linspace(-2,2,size))\n",
    "pairs = np.concatenate((X1.reshape(-1,1), X2.reshape(-1,1)), axis=1)\n",
    "Y = layer_sam(pairs, fv1)[:,1] > -.5\n",
    "plt.scatter(pairs[:,0], pairs[:,1], c=Y)"
   ]
  }
 ],
 "metadata": {
  "kernelspec": {
   "display_name": "Python 3",
   "language": "python",
   "name": "python3"
  },
  "language_info": {
   "name": "python",
   "version": "3.11.5"
  }
 },
 "nbformat": 4,
 "nbformat_minor": 2
}
