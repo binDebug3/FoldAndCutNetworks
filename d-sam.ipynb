{
 "cells": [
  {
   "cell_type": "code",
   "execution_count": 1,
   "metadata": {},
   "outputs": [],
   "source": [
    "# Class dependencies\n",
    "import numpy as np\n",
    "from matplotlib import pyplot as plt\n",
    "import pandas as pd\n",
    "import torch\n",
    "from models.folds import Fold, SoftFold\n",
    "from models.model_bank import DynamicOrigami, Softmax\n",
    "from models.training import train, NoamScheduler, load_data, plot_model\n",
    "from torch.utils.data import Dataset, DataLoader\n",
    "\n",
    "\n",
    "\n",
    "# Other analysis libraries\n",
    "from sklearn.model_selection import train_test_split\n",
    "from sklearn.metrics import confusion_matrix\n",
    "import matplotlib.animation as animation\n",
    "from matplotlib.animation import FuncAnimation\n",
    "from sklearn.datasets import load_digits"
   ]
  },
  {
   "cell_type": "code",
   "execution_count": 32,
   "metadata": {},
   "outputs": [
    {
     "data": {
      "text/html": [
       "Tracking run with wandb version 0.18.7"
      ],
      "text/plain": [
       "<IPython.core.display.HTML object>"
      ]
     },
     "metadata": {},
     "output_type": "display_data"
    },
    {
     "data": {
      "text/html": [
       "Run data is saved locally in <code>/Users/samlayton/Desktop/Work/Github/Open Source Repositories/FoldAndCutNetworks/wandb/run-20241115_120013-l28vsz3x</code>"
      ],
      "text/plain": [
       "<IPython.core.display.HTML object>"
      ]
     },
     "metadata": {},
     "output_type": "display_data"
    },
    {
     "data": {
      "text/html": [
       "Syncing run <strong><a href='https://wandb.ai/fold-and-cut/baby%27s%20first%20run/runs/l28vsz3x' target=\"_blank\">whole-eon-2</a></strong> to <a href='https://wandb.ai/fold-and-cut/baby%27s%20first%20run' target=\"_blank\">Weights & Biases</a> (<a href='https://wandb.me/developer-guide' target=\"_blank\">docs</a>)<br/>"
      ],
      "text/plain": [
       "<IPython.core.display.HTML object>"
      ]
     },
     "metadata": {},
     "output_type": "display_data"
    },
    {
     "data": {
      "text/html": [
       " View project at <a href='https://wandb.ai/fold-and-cut/baby%27s%20first%20run' target=\"_blank\">https://wandb.ai/fold-and-cut/baby%27s%20first%20run</a>"
      ],
      "text/plain": [
       "<IPython.core.display.HTML object>"
      ]
     },
     "metadata": {},
     "output_type": "display_data"
    },
    {
     "data": {
      "text/html": [
       " View run at <a href='https://wandb.ai/fold-and-cut/baby%27s%20first%20run/runs/l28vsz3x' target=\"_blank\">https://wandb.ai/fold-and-cut/baby%27s%20first%20run/runs/l28vsz3x</a>"
      ],
      "text/plain": [
       "<IPython.core.display.HTML object>"
      ]
     },
     "metadata": {},
     "output_type": "display_data"
    },
    {
     "name": "stdout",
     "output_type": "stream",
     "text": [
      "yeet the child2\n",
      "yeet the child3\n",
      "yeet the child4\n",
      "yeet the child5\n",
      "yeet the child6\n",
      "yeet the child7\n",
      "yeet the child8\n",
      "yeet the child9\n"
     ]
    },
    {
     "data": {
      "text/html": [
       "\n",
       "    <style>\n",
       "        .wandb-row {\n",
       "            display: flex;\n",
       "            flex-direction: row;\n",
       "            flex-wrap: wrap;\n",
       "            justify-content: flex-start;\n",
       "            width: 100%;\n",
       "        }\n",
       "        .wandb-col {\n",
       "            display: flex;\n",
       "            flex-direction: column;\n",
       "            flex-basis: 100%;\n",
       "            flex: 1;\n",
       "            padding: 10px;\n",
       "        }\n",
       "    </style>\n",
       "<div class=\"wandb-row\"><div class=\"wandb-col\"><h3>Run history:</h3><br/><table class=\"wandb\"><tr><td>acc</td><td>▁▅▆▆██▇▇</td></tr><tr><td>loss</td><td>█▃▅▂▂▁▁▁</td></tr></table><br/></div><div class=\"wandb-col\"><h3>Run summary:</h3><br/><table class=\"wandb\"><tr><td>acc</td><td>0.84332</td></tr><tr><td>loss</td><td>0.06011</td></tr></table><br/></div></div>"
      ],
      "text/plain": [
       "<IPython.core.display.HTML object>"
      ]
     },
     "metadata": {},
     "output_type": "display_data"
    },
    {
     "data": {
      "text/html": [
       " View run <strong style=\"color:#cdcd00\">whole-eon-2</strong> at: <a href='https://wandb.ai/fold-and-cut/baby%27s%20first%20run/runs/l28vsz3x' target=\"_blank\">https://wandb.ai/fold-and-cut/baby%27s%20first%20run/runs/l28vsz3x</a><br/> View project at: <a href='https://wandb.ai/fold-and-cut/baby%27s%20first%20run' target=\"_blank\">https://wandb.ai/fold-and-cut/baby%27s%20first%20run</a><br/>Synced 5 W&B file(s), 0 media file(s), 0 artifact file(s) and 0 other file(s)"
      ],
      "text/plain": [
       "<IPython.core.display.HTML object>"
      ]
     },
     "metadata": {},
     "output_type": "display_data"
    },
    {
     "data": {
      "text/html": [
       "Find logs at: <code>./wandb/run-20241115_120013-l28vsz3x/logs</code>"
      ],
      "text/plain": [
       "<IPython.core.display.HTML object>"
      ]
     },
     "metadata": {},
     "output_type": "display_data"
    }
   ],
   "source": [
    "import wandb\n",
    "import random\n",
    "\n",
    "# start a new wandb run to track this script\n",
    "wandb.init(\n",
    "    # set the wandb project where this run will be logged\n",
    "    project=\"baby's first run\",\n",
    "\n",
    "    # track hyperparameters and run metadata\n",
    "    config={\n",
    "    \"learning_rate\": 0.02,\n",
    "    \"architecture\": \"CNN\",\n",
    "    \"dataset\": \"CIFAR-100\",\n",
    "    \"epochs\": 10,\n",
    "    }\n",
    ")\n",
    "\n",
    "# simulate training\n",
    "epochs = 10\n",
    "offset = random.random() / 5\n",
    "for epoch in range(2, epochs):\n",
    "    acc = 1 - 2 ** -epoch - random.random() / epoch - offset\n",
    "    loss = 2 ** -epoch + random.random() / epoch + offset\n",
    "\n",
    "    # log metrics to wandb\n",
    "    wandb.log({\"acc\": acc, \"loss\": loss})\n",
    "    print(f\"yeet the child{epoch}\")\n",
    "\n",
    "# [optional] finish the wandb run, necessary in notebooks\n",
    "wandb.finish()"
   ]
  },
  {
   "cell_type": "code",
   "execution_count": 2,
   "metadata": {},
   "outputs": [],
   "source": [
    "# import small digits dataset\n",
    "digits = load_digits()\n",
    "X = digits.data\n",
    "y = digits.target\n",
    "\n",
    "# split the data\n",
    "X_train, X_test, y_train, y_test = train_test_split(X, y, test_size=0.2)\n",
    "X_train, X_val, y_train, y_val = train_test_split(X_train, y_train, test_size=0.2)\n",
    "\n",
    "# set up the model\n",
    "# model = OrigamiNetwork(layers=1, epochs=300, optimizer='sgd',learning_rate=0.001, sigmoid=True, crease=5)\n",
    "# model.fit(X_train, y_train, X_val, y_val)\n",
    "\n",
    "# # get the predictions\n",
    "# y_hat = model.predict(X_test)\n",
    "# print(accuracy_score(y_test, y_hat))"
   ]
  },
  {
   "cell_type": "code",
   "execution_count": 27,
   "metadata": {},
   "outputs": [],
   "source": [
    "leak = 0.00\n",
    "stretch = False\n",
    "\n",
    "architecture = [{'type': 'Fold', 'params': {'width':64, 'leak':leak, 'has_stretch': stretch}},\n",
    "                {'type': 'Fold', 'params': {'width':70, 'leak':leak, 'has_stretch': stretch}},\n",
    "                {'type': 'Fold', 'params': {'width':80, 'leak':leak, 'has_stretch': stretch}},\n",
    "                {'type': 'Fold', 'params': {'width':90, 'leak':leak, 'has_stretch': stretch}},\n",
    "                {'type': 'Fold', 'params': {'width':100, 'leak':leak, 'has_stretch': stretch}}]\n",
    "\n",
    "architecture2 = [{'type': 'SoftFold', 'params': {'width':100, 'has_stretch': False}}]\n",
    "blank = [64]"
   ]
  },
  {
   "cell_type": "code",
   "execution_count": 24,
   "metadata": {},
   "outputs": [],
   "source": [
    "# Data generation\n",
    "train_loader = load_data(X_train, y_train, batch_size=32, shuffle=True)\n",
    "val_loader = load_data(X_val, y_val, batch_size=32, shuffle=True)\n",
    "test_loader = load_data(X_test, y_test, batch_size=32, shuffle=True)"
   ]
  },
  {
   "cell_type": "code",
   "execution_count": null,
   "metadata": {},
   "outputs": [
    {
     "ename": "KeyError",
     "evalue": "\"param 'initial_lr' is not specified in param_groups[0] when resuming an optimizer\"",
     "output_type": "error",
     "traceback": [
      "\u001b[0;31m---------------------------------------------------------------------------\u001b[0m",
      "\u001b[0;31mKeyError\u001b[0m                                  Traceback (most recent call last)",
      "Cell \u001b[0;32mIn[29], line 3\u001b[0m\n\u001b[1;32m      1\u001b[0m model \u001b[38;5;241m=\u001b[39m DynamicOrigami(architecture,\u001b[38;5;241m10\u001b[39m)\n\u001b[1;32m      2\u001b[0m optimizer \u001b[38;5;241m=\u001b[39m torch\u001b[38;5;241m.\u001b[39moptim\u001b[38;5;241m.\u001b[39mAdam(model\u001b[38;5;241m.\u001b[39mparameters(), lr\u001b[38;5;241m=\u001b[39m\u001b[38;5;241m.0001\u001b[39m)\n\u001b[0;32m----> 3\u001b[0m train_losses, val_losses, train_accuracies, val_accuracies, \u001b[38;5;241m*\u001b[39mlearning_rates \u001b[38;5;241m=\u001b[39m train(model, optimizer, train_loader, val_loader, epochs\u001b[38;5;241m=\u001b[39m\u001b[38;5;241m300\u001b[39m, validate_rate\u001b[38;5;241m=\u001b[39m\u001b[38;5;241m1\u001b[39m\u001b[38;5;241m/\u001b[39m\u001b[38;5;241m300\u001b[39m, scheduler\u001b[38;5;241m=\u001b[39m\u001b[43mNoamScheduler\u001b[49m\u001b[43m(\u001b[49m\u001b[43moptimizer\u001b[49m\u001b[43m,\u001b[49m\u001b[43m \u001b[49m\u001b[38;5;241;43m1000\u001b[39;49m\u001b[43m,\u001b[49m\u001b[43m \u001b[49m\u001b[38;5;241;43m4000\u001b[39;49m\u001b[43m,\u001b[49m\u001b[43m \u001b[49m\u001b[38;5;241;43m0.5\u001b[39;49m\u001b[43m)\u001b[49m)\n\u001b[1;32m      4\u001b[0m plot_model(train_losses, val_losses, train_accuracies, val_accuracies)\n\u001b[1;32m      5\u001b[0m \u001b[38;5;28mprint\u001b[39m(\u001b[38;5;124m\"\u001b[39m\u001b[38;5;124mfinal val_score:\u001b[39m\u001b[38;5;124m\"\u001b[39m, np\u001b[38;5;241m.\u001b[39mmean(val_accuracies[\u001b[38;5;241m-\u001b[39m\u001b[38;5;241m10\u001b[39m]))\n",
      "File \u001b[0;32m~/Desktop/Work/Github/Open Source Repositories/FoldAndCutNetworks/models/training.py:39\u001b[0m, in \u001b[0;36mNoamScheduler.__init__\u001b[0;34m(self, optimizer, warmup_steps, model_size, last_epoch)\u001b[0m\n\u001b[1;32m     37\u001b[0m \u001b[38;5;28mself\u001b[39m\u001b[38;5;241m.\u001b[39mmodel_size \u001b[38;5;241m=\u001b[39m model_size\n\u001b[1;32m     38\u001b[0m \u001b[38;5;28mself\u001b[39m\u001b[38;5;241m.\u001b[39moptimizer \u001b[38;5;241m=\u001b[39m optimizer\n\u001b[0;32m---> 39\u001b[0m \u001b[38;5;28;43msuper\u001b[39;49m\u001b[43m(\u001b[49m\u001b[43mNoamScheduler\u001b[49m\u001b[43m,\u001b[49m\u001b[43m \u001b[49m\u001b[38;5;28;43mself\u001b[39;49m\u001b[43m)\u001b[49m\u001b[38;5;241;43m.\u001b[39;49m\u001b[38;5;21;43m__init__\u001b[39;49m\u001b[43m(\u001b[49m\u001b[38;5;28;43mself\u001b[39;49m\u001b[38;5;241;43m.\u001b[39;49m\u001b[43moptimizer\u001b[49m\u001b[43m,\u001b[49m\u001b[43m \u001b[49m\u001b[43mlast_epoch\u001b[49m\u001b[43m)\u001b[49m\n",
      "File \u001b[0;32m~/PythonEnv/envs/general_ml/lib/python3.12/site-packages/torch/optim/lr_scheduler.py:49\u001b[0m, in \u001b[0;36mLRScheduler.__init__\u001b[0;34m(self, optimizer, last_epoch, verbose)\u001b[0m\n\u001b[1;32m     47\u001b[0m     \u001b[38;5;28;01mfor\u001b[39;00m i, group \u001b[38;5;129;01min\u001b[39;00m \u001b[38;5;28menumerate\u001b[39m(optimizer\u001b[38;5;241m.\u001b[39mparam_groups):\n\u001b[1;32m     48\u001b[0m         \u001b[38;5;28;01mif\u001b[39;00m \u001b[38;5;124m'\u001b[39m\u001b[38;5;124minitial_lr\u001b[39m\u001b[38;5;124m'\u001b[39m \u001b[38;5;129;01mnot\u001b[39;00m \u001b[38;5;129;01min\u001b[39;00m group:\n\u001b[0;32m---> 49\u001b[0m             \u001b[38;5;28;01mraise\u001b[39;00m \u001b[38;5;167;01mKeyError\u001b[39;00m(\u001b[38;5;124m\"\u001b[39m\u001b[38;5;124mparam \u001b[39m\u001b[38;5;124m'\u001b[39m\u001b[38;5;124minitial_lr\u001b[39m\u001b[38;5;124m'\u001b[39m\u001b[38;5;124m is not specified \u001b[39m\u001b[38;5;124m\"\u001b[39m\n\u001b[1;32m     50\u001b[0m                            \u001b[38;5;124mf\u001b[39m\u001b[38;5;124m\"\u001b[39m\u001b[38;5;124min param_groups[\u001b[39m\u001b[38;5;132;01m{\u001b[39;00mi\u001b[38;5;132;01m}\u001b[39;00m\u001b[38;5;124m] when resuming an optimizer\u001b[39m\u001b[38;5;124m\"\u001b[39m)\n\u001b[1;32m     51\u001b[0m \u001b[38;5;28mself\u001b[39m\u001b[38;5;241m.\u001b[39mbase_lrs \u001b[38;5;241m=\u001b[39m [group[\u001b[38;5;124m'\u001b[39m\u001b[38;5;124minitial_lr\u001b[39m\u001b[38;5;124m'\u001b[39m] \u001b[38;5;28;01mfor\u001b[39;00m group \u001b[38;5;129;01min\u001b[39;00m optimizer\u001b[38;5;241m.\u001b[39mparam_groups]\n\u001b[1;32m     52\u001b[0m \u001b[38;5;28mself\u001b[39m\u001b[38;5;241m.\u001b[39mlast_epoch \u001b[38;5;241m=\u001b[39m last_epoch\n",
      "\u001b[0;31mKeyError\u001b[0m: \"param 'initial_lr' is not specified in param_groups[0] when resuming an optimizer\""
     ]
    }
   ],
   "source": [
    "model = DynamicOrigami(architecture,10)\n",
    "optimizer = torch.optim.Adam(model.parameters(), lr=.0001)\n",
    "train_losses, val_losses, train_accuracies, val_accuracies, *learning_rates = train(model, optimizer, train_loader, val_loader, epochs=300, validate_rate=1/300, scheduler=NoamScheduler(optimizer, 1000, 4000, 0.5))\n",
    "plot_model(train_losses, val_losses, train_accuracies, val_accuracies)\n",
    "print(\"final val_score:\", np.mean(val_accuracies[-10]))"
   ]
  },
  {
   "cell_type": "code",
   "execution_count": 6,
   "metadata": {},
   "outputs": [
    {
     "data": {
      "image/png": "[encoded data removed]",
      "text/plain": [
       "<Figure size 1000x500 with 2 Axes>"
      ]
     },
     "metadata": {},
     "output_type": "display_data"
    },
    {
     "ename": "IndexError",
     "evalue": "list index out of range",
     "output_type": "error",
     "traceback": [
      "\u001b[0;31m---------------------------------------------------------------------------\u001b[0m",
      "\u001b[0;31mIndexError\u001b[0m                                Traceback (most recent call last)",
      "Cell \u001b[0;32mIn[6], line 5\u001b[0m\n\u001b[1;32m      3\u001b[0m train_losses, val_losses, train_accuracies, val_accuracies, fake \u001b[38;5;241m=\u001b[39m train(model2, optimizer, train_loader, val_loader, epochs\u001b[38;5;241m=\u001b[39m\u001b[38;5;241m300\u001b[39m)\n\u001b[1;32m      4\u001b[0m plot_model(train_losses, val_losses, train_accuracies, val_accuracies)\n\u001b[0;32m----> 5\u001b[0m \u001b[38;5;28mprint\u001b[39m(\u001b[38;5;124m\"\u001b[39m\u001b[38;5;124mfinal val_score:\u001b[39m\u001b[38;5;124m\"\u001b[39m, np\u001b[38;5;241m.\u001b[39mmean(\u001b[43mval_accuracies\u001b[49m\u001b[43m[\u001b[49m\u001b[38;5;241;43m-\u001b[39;49m\u001b[38;5;241;43m10\u001b[39;49m\u001b[43m]\u001b[49m))\n",
      "\u001b[0;31mIndexError\u001b[0m: list index out of range"
     ]
    }
   ],
   "source": [
    "model2 = DynamicOrigami(architecture2,10)\n",
    "optimizer = torch.optim.Adam(model2.parameters(), lr=.0001)\n",
    "train_losses, val_losses, train_accuracies, val_accuracies, fake = train(model2, optimizer, train_loader, val_loader, epochs=300)\n",
    "plot_model(train_losses, val_losses, train_accuracies, val_accuracies)\n",
    "print(\"final val_score:\", np.mean(val_accuracies[-10]))"
   ]
  },
  {
   "cell_type": "code",
   "execution_count": null,
   "metadata": {},
   "outputs": [
    {
     "name": "stdout",
     "output_type": "stream",
     "text": [
      "Layer SoftFold()\n",
      "Crease: -1.5901776552200317\n",
      "Stretch: 2.0\n",
      "\n",
      "Layer SoftFold()\n",
      "Crease: -0.6160607933998108\n",
      "Stretch: 2.0\n",
      "\n",
      "Layer SoftFold()\n",
      "Crease: 0.33315789699554443\n",
      "Stretch: 2.0\n",
      "\n",
      "Layer SoftFold()\n",
      "Crease: 0.960559606552124\n",
      "Stretch: 2.0\n",
      "\n",
      "Layer SoftFold()\n",
      "Crease: 1.7586315870285034\n",
      "Stretch: 2.0\n",
      "\n",
      "1.32813560962677\n",
      "1.422472596168518\n",
      "1.3485649824142456\n",
      "1.2690033912658691\n",
      "1.379572868347168\n"
     ]
    }
   ],
   "source": [
    "# print out all stretch and crease parameters\n",
    "for layer in model.layers:\n",
    "    if isinstance(layer, SoftFold):\n",
    "        # print the layer number\n",
    "        print(f'Layer {layer}')\n",
    "        print(f'Crease: {layer.crease.data[0]}')\n",
    "        print(f'Stretch: {layer.stretch.data}')\n",
    "        print()\n",
    "\n",
    "n_vectors = []\n",
    "a_values = []\n",
    "stretch_values = []\n",
    "# print the norm of the fold parameters\n",
    "for layer in model.layers:\n",
    "    if isinstance(layer, SoftFold):\n",
    "        print(torch.norm(layer.n).item())\n",
    "        n_vectors.append(layer.n.detach().numpy())\n",
    "        a_values.append(layer.crease.detach().numpy())\n",
    "        stretch_values.append(layer.stretch.detach().numpy())\n",
    "\n",
    "linear = model.layers[-1]\n",
    "weights = linear.weight.detach().numpy()"
   ]
  },
  {
   "cell_type": "code",
   "execution_count": null,
   "metadata": {},
   "outputs": [
    {
     "ename": "ValueError",
     "evalue": "cannot reshape array of size 70 into shape (8,8)",
     "output_type": "error",
     "traceback": [
      "\u001b[0;31m---------------------------------------------------------------------------\u001b[0m",
      "\u001b[0;31mValueError\u001b[0m                                Traceback (most recent call last)",
      "Cell \u001b[0;32mIn[310], line 78\u001b[0m\n\u001b[1;32m     76\u001b[0m     axs[j, i]\u001b[38;5;241m.\u001b[39mimshow(t\u001b[38;5;241m.\u001b[39mreshape(\u001b[38;5;241m10\u001b[39m, \u001b[38;5;241m1\u001b[39m), cmap\u001b[38;5;241m=\u001b[39m\u001b[38;5;124m'\u001b[39m\u001b[38;5;124mgray\u001b[39m\u001b[38;5;124m'\u001b[39m)\n\u001b[1;32m     77\u001b[0m \u001b[38;5;28;01melse\u001b[39;00m:\n\u001b[0;32m---> 78\u001b[0m     axs[j, i]\u001b[38;5;241m.\u001b[39mimshow(\u001b[43mt\u001b[49m\u001b[38;5;241;43m.\u001b[39;49m\u001b[43mreshape\u001b[49m\u001b[43m(\u001b[49m\u001b[38;5;241;43m8\u001b[39;49m\u001b[43m,\u001b[49m\u001b[43m \u001b[49m\u001b[38;5;241;43m8\u001b[39;49m\u001b[43m)\u001b[49m, cmap\u001b[38;5;241m=\u001b[39m\u001b[38;5;124m'\u001b[39m\u001b[38;5;124mgray\u001b[39m\u001b[38;5;124m'\u001b[39m)\n\u001b[1;32m     79\u001b[0m \u001b[38;5;66;03m#axs[j, i].axis('off')\u001b[39;00m\n\u001b[1;32m     80\u001b[0m \u001b[38;5;66;03m# put a border around all the images\u001b[39;00m\n\u001b[1;32m     81\u001b[0m axs[j, i]\u001b[38;5;241m.\u001b[39mset_xticks([])\n",
      "\u001b[0;31mValueError\u001b[0m: cannot reshape array of size 70 into shape (8,8)"
     ]
    },
    {
     "data": {
      "text/plain": [
       "<Figure size 2000x1000 with 0 Axes>"
      ]
     },
     "metadata": {},
     "output_type": "display_data"
    },
    {
     "data": {
      "image/png": "[encoded data removed]",
      "text/plain": [
       "<Figure size 640x480 with 70 Axes>"
      ]
     },
     "metadata": {},
     "output_type": "display_data"
    }
   ],
   "source": [
    "# # display each of the n vectors in grayscale\n",
    "# # make the figure larger\n",
    "# plt.figure(figsize=(20, 10))\n",
    "# fig, axs = plt.subplots(1, len(n_vectors))\n",
    "# for i, n in enumerate(n_vectors):\n",
    "#     axs[i].imshow(n.reshape(8, 8), cmap='gray')\n",
    "#     axs[i].axis('off')\n",
    "# plt.show()\n",
    "\n",
    "# # plot similar noise vectors\n",
    "# noise = np.random.normal(0, 1, (len(n_vectors), 64))\n",
    "# plt.figure(figsize=(20, 10))\n",
    "# fig, axs = plt.subplots(1, len(n_vectors))\n",
    "# for i, n in enumerate(noise):\n",
    "#     axs[i].imshow(n.reshape(8, 8), cmap='gray')\n",
    "#     axs[i].axis('off')\n",
    "# plt.show()\n",
    "\n",
    "# # get a single sample of the data and print it\n",
    "# import numpy as np\n",
    "\n",
    "# import numpy as np\n",
    "\n",
    "def soft_folding_transform(alpha, stretch, x, n):\n",
    "    \"\"\"\n",
    "    Performs a soft folding transformation on the 1D input vector x using given parameters.\n",
    "    \n",
    "    Args:\n",
    "        alpha (float): The crease parameter used in the transformation.\n",
    "        stretch (float): The stretch parameter to scale the orthogonal projection.\n",
    "        x (np.ndarray): The input vector of shape (input_dim,).\n",
    "        n (np.ndarray): The normal vector of shape (input_dim,).\n",
    "\n",
    "    Returns:\n",
    "        np.ndarray: The transformed vector of shape (input_dim,).\n",
    "    \"\"\"\n",
    "    if n.shape[0] > x.shape[0]:\n",
    "        x = np.pad(x, (0, n.shape[0] - x.shape[0]), mode='constant')\n",
    "    elif n.shape[0] < x.shape[0]:\n",
    "        raise ValueError(f\"Input dimension ({x.shape[0]}) is greater than fold width ({n.shape[0]})\")\n",
    "\n",
    "    # Small epsilon for numerical stability\n",
    "    eps = 1e-8\n",
    "\n",
    "    # Compute z_dot_x, n_dot_n, and scales\n",
    "    z_dot_x = np.dot(x, n)  # Scalar result\n",
    "    n_dot_n = np.dot(n, n) + eps  # Scalar result\n",
    "    scale = z_dot_x / n_dot_n\n",
    "\n",
    "    # Compute 'p' and sigmoid\n",
    "    p = alpha * (z_dot_x - n_dot_n)\n",
    "    p = np.clip(p, -25.0, 25.0)\n",
    "    sigmoid = 1 / (1 + np.exp(-p))  # Sigmoid function, scalar\n",
    "\n",
    "    # Compute the orthogonal projection and the output\n",
    "    ortho_proj = (1 - scale) * n  # shape: (input_dim,)\n",
    "    output = x + stretch * sigmoid * ortho_proj  # shape: (input_dim,)\n",
    "    return output\n",
    "\n",
    "\n",
    "\n",
    "size = 10\n",
    "plt.figure(figsize=(20, 10))\n",
    "fig, axs = plt.subplots(size, len(a_values) + 2)\n",
    "for j in range(size):\n",
    "    sample = X_train[j]\n",
    "    transforms = [sample]\n",
    "    for i, (a, s, n) in enumerate(zip(a_values, stretch_values, n_vectors)):\n",
    "        sample = soft_folding_transform(a[0], s, sample, n)\n",
    "        transforms.append(sample)\n",
    "    # Add the linear transformation\n",
    "    sample = np.dot(weights, sample)\n",
    "    transforms.append(sample)\n",
    "    for i, t in enumerate(transforms):\n",
    "        if i == len(transforms) - 1:\n",
    "            axs[j, i].imshow(t.reshape(10, 1), cmap='gray')\n",
    "        else:\n",
    "            axs[j, i].imshow(t.reshape(8, 8), cmap='gray')\n",
    "        #axs[j, i].axis('off')\n",
    "        # put a border around all the images\n",
    "        axs[j, i].set_xticks([])\n",
    "        axs[j, i].set_yticks([])\n",
    "        \n",
    "        \n",
    "plt.show()\n",
    "plt.tight_layout()\n",
    "\n"
   ]
  }
 ],
 "metadata": {
  "kernelspec": {
   "display_name": "general_ml",
   "language": "python",
   "name": "python3"
  },
  "language_info": {
   "codemirror_mode": {
    "name": "ipython",
    "version": 3
   },
   "file_extension": ".py",
   "mimetype": "text/x-python",
   "name": "python",
   "nbconvert_exporter": "python",
   "pygments_lexer": "ipython3",
   "version": "3.12.4"
  }
 },
 "nbformat": 4,
 "nbformat_minor": 2
}
