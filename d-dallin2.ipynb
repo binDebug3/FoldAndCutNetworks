{
 "cells": [
  {
   "cell_type": "code",
   "execution_count": 1,
   "metadata": {},
   "outputs": [
    {
     "ename": "ModuleNotFoundError",
     "evalue": "No module named 'pytorch_model'",
     "output_type": "error",
     "traceback": [
      "\u001b[1;31m---------------------------------------------------------------------------\u001b[0m",
      "\u001b[1;31mModuleNotFoundError\u001b[0m                       Traceback (most recent call last)",
      "Cell \u001b[1;32mIn[1], line 10\u001b[0m\n\u001b[0;32m      8\u001b[0m \u001b[38;5;28;01mimport\u001b[39;00m \u001b[38;5;21;01mcopy\u001b[39;00m\n\u001b[0;32m      9\u001b[0m \u001b[38;5;28;01mfrom\u001b[39;00m \u001b[38;5;21;01msklearn\u001b[39;00m\u001b[38;5;21;01m.\u001b[39;00m\u001b[38;5;21;01mmodel_selection\u001b[39;00m \u001b[38;5;28;01mimport\u001b[39;00m train_test_split\n\u001b[1;32m---> 10\u001b[0m \u001b[38;5;28;01mfrom\u001b[39;00m \u001b[38;5;21;01mpytorch_model\u001b[39;00m \u001b[38;5;28;01mimport\u001b[39;00m OrigamiNetwork\n\u001b[0;32m     11\u001b[0m \u001b[38;5;28;01mfrom\u001b[39;00m \u001b[38;5;21;01mvis_helpers\u001b[39;00m \u001b[38;5;28;01mimport\u001b[39;00m \u001b[38;5;241m*\u001b[39m\n",
      "\u001b[1;31mModuleNotFoundError\u001b[0m: No module named 'pytorch_model'"
     ]
    }
   ],
   "source": [
    "import numpy as np\n",
    "from matplotlib import pyplot as plt\n",
    "import plotly.graph_objs as go\n",
    "import plotly.io as pio\n",
    "from plotly.subplots import make_subplots\n",
    "from tqdm import tqdm\n",
    "import pickle\n",
    "import copy\n",
    "from sklearn.model_selection import train_test_split\n",
    "from pytorch_model import OrigamiNetwork\n",
    "from vis_helpers import *"
   ]
  },
  {
   "cell_type": "code",
   "execution_count": null,
   "metadata": {},
   "outputs": [],
   "source": [
    "def layer_sam(D, n):\n",
    "    scales = (D@n)/np.dot(n, n)\n",
    "    mask = scales > 1\n",
    "    return D + mask[:,np.newaxis] * (2*n - (2 * np.outer(scales, n)))\n",
    "fv1 = np.array([0,.5])\n",
    "size = 10\n",
    "X1, X2 = np.meshgrid(np.linspace(-2,2,size), np.linspace(-2,2,size))\n",
    "sandwichX = np.concatenate((X1.reshape(-1,1), X2.reshape(-1,1)), axis=1)\n",
    "sandwichY = layer_sam(sandwichX, fv1)[:,1] > -.5\n",
    "# plt.scatter(sandwichX[:,0], sandwichX[:,1], c=sandwichY)\n",
    "\n",
    "size = 100\n",
    "x1 = np.linspace(-2,2,size)\n",
    "x2 = np.linspace(-2,2,size)\n",
    "X1,X2 = np.meshgrid(x1,x2)\n",
    "xorX = np.concatenate((X1.reshape(-1,1),X2.reshape(-1,1)),axis=1)\n",
    "xorY = np.array([[1 if (i < size//2 and j < size//2 or i >= size//2 and j >= size//2) else 0 for j in range(size)] for i in range(size)]).reshape(-1)\n",
    "# plt.scatter(xorX[:,0], xorX[:,1], c=xorY)\n",
    "\n",
    "count = 20\n",
    "onedX = np.linspace(-2,2,count)\n",
    "onedY = np.zeros(count)\n",
    "onedY[:6] = 1\n",
    "onedY[-6:] = 1\n",
    "onedX = np.expand_dims(onedX, axis=1)"
   ]
  },
  {
   "cell_type": "code",
   "execution_count": null,
   "metadata": {},
   "outputs": [],
   "source": [
    "test_case_x = sandwichX\n",
    "test_case_y = sandwichY\n",
    "print(\"Testing XOR problem\")\n",
    "\n",
    "test = OrigamiNetwork(layers=1, width=None, epochs=500, learning_rate=0.0001, optimizer=\"grad\", reg=0, leak=0.08)\n",
    "test.output_layer = np.array([[-0.96438805, 0.36995705],\n",
    "                                [-1.13132166 ,-1.41350615]])\n",
    "test.b = np.array([0.95990296, 0.72748519])\n",
    "test.fold_vectors = np.array([[1., 0.25],])\n",
    "                            #   [0.01, 0.01]])\n",
    "histories = test.fit(test_case_x, test_case_y, freeze_cut=True, freeze_folds=False)\n",
    "out = test.forward_pass(test_case_x)\n",
    "\n",
    "print(\"\\nScore =\", test.score(), \"after training\")\n",
    "print(\"Cut\", test.output_layer, test.b, \"Fold vectors\", test.fold_vectors, sep=\"\\n\")"
   ]
  },
  {
   "cell_type": "code",
   "execution_count": null,
   "metadata": {},
   "outputs": [],
   "source": [
    "plot_wiggles(layer=0, histories)"
   ]
  },
  {
   "cell_type": "code",
   "execution_count": null,
   "metadata": {},
   "outputs": [],
   "source": [
    "plot_history(test, verbose=2)"
   ]
  },
  {
   "cell_type": "code",
   "execution_count": null,
   "metadata": {},
   "outputs": [],
   "source": [
    "max_score, best_folds = test.iscore_landscape(score_layers=None, create_plot=True, density=31, verbose=1, learning=False)\n",
    "print(test.output_layer)"
   ]
  }
 ],
 "metadata": {
  "kernelspec": {
   "display_name": "Python 3",
   "language": "python",
   "name": "python3"
  },
  "language_info": {
   "codemirror_mode": {
    "name": "ipython",
    "version": 3
   },
   "file_extension": ".py",
   "mimetype": "text/x-python",
   "name": "python",
   "nbconvert_exporter": "python",
   "pygments_lexer": "ipython3",
   "version": "3.11.5"
  }
 },
 "nbformat": 4,
 "nbformat_minor": 2
}
