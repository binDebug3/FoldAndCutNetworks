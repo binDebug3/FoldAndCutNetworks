{
 "cells": [
  {
   "cell_type": "code",
   "execution_count": 1,
   "metadata": {},
   "outputs": [],
   "source": [
    "from jeffutils.utils import reimport\n",
    "from pprint import pprint\n",
    "import json\n",
    "\n",
    "from data_loader import *\n",
    "reimport([\"from data_loader import *\"], globals())\n",
    "\n",
    "\n",
    "# load settings\n",
    "with open(\"config.json\") as f:\n",
    "    settings = json.load(f)\n",
    "benchmark_models = settings[\"benchmark_models\"]\n",
    "benchmark_datasets = settings[\"benchmark_datasets\"]\n",
    "date_format = settings[\"date_format\"]\n",
    "repeat = settings[\"repeat\"]\n",
    "date_time = dt.datetime.now().strftime(date_format)\n"
   ]
  },
  {
   "cell_type": "code",
   "execution_count": 2,
   "metadata": {},
   "outputs": [
    {
     "name": "stdout",
     "output_type": "stream",
     "text": [
      "Error with train_loss - object of type 'NoneType' has no len()\n",
      "Error with val_loss - object of type 'NoneType' has no len()\n",
      "Error with train_acc - object of type 'NoneType' has no len()\n",
      "Error with val_acc - object of type 'NoneType' has no len()\n",
      "Error with time - object of type 'NoneType' has no len()\n",
      "Error with train_loss - object of type 'NoneType' has no len()\n",
      "Error with val_loss - object of type 'NoneType' has no len()\n",
      "Error with train_acc - object of type 'NoneType' has no len()\n",
      "Error with val_acc - object of type 'NoneType' has no len()\n",
      "Error with time - object of type 'NoneType' has no len()\n",
      "Error with train_loss - object of type 'NoneType' has no len()\n",
      "Error with val_loss - object of type 'NoneType' has no len()\n",
      "Error with train_acc - object of type 'NoneType' has no len()\n",
      "Error with val_acc - object of type 'NoneType' has no len()\n",
      "Error with time - object of type 'NoneType' has no len()\n"
     ]
    },
    {
     "data": {
      "text/plain": [
       "<Figure size 3000x600 with 0 Axes>"
      ]
     },
     "metadata": {},
     "output_type": "display_data"
    }
   ],
   "source": [
    "constants = (None, date_time, \"digits\")\n",
    "plot_results({}, constants, repeat=repeat, save_fig=True, replace_fig=True, from_data=True, errors='flag')"
   ]
  },
  {
   "cell_type": "code",
   "execution_count": null,
   "metadata": {},
   "outputs": [],
   "source": [
    "test_results = {}\n",
    "verbose = 2\n",
    "new_set = False\n",
    "\n",
    "if new_set:\n",
    "    date_time = dt.datetime.now().strftime(date_format)\n",
    "\n",
    "if verbose > 0:\n",
    "    print(f\"{len(benchmark_models)} models \\t{benchmark_models} on\")\n",
    "    print(f\"{len(benchmark_datasets)} datasets \\t{benchmark_datasets} at {date_time}\\n\")\n",
    "if verbose > 1:\n",
    "    pprint(settings)\n",
    "\n",
    "for dataset_name in benchmark_datasets:\n",
    "    test_results[dataset_name] = {}\n",
    "    for model_name in benchmark_models:\n",
    "        try:\n",
    "            results, sizes = test_model(model_name, date_time, dataset_name, \n",
    "                                        return_sizes=True, repeat=repeat, verbose=verbose)\n",
    "            test_results[dataset_name].update(results)\n",
    "        except InvalidModelError as e:\n",
    "            print(f\"Error: {e}\")\n",
    "            print(f\"Skipping {model_name} on {dataset_name}\")\n",
    "            continue\n",
    "    constants = (sizes, date_time, dataset_name)\n",
    "    plot_results(test_results[dataset_name], constants, repeat=repeat,\n",
    "                 save_fig=True, replace_fig=True, from_data=False)"
   ]
  }
 ],
 "metadata": {
  "kernelspec": {
   "display_name": "Python 3",
   "language": "python",
   "name": "python3"
  },
  "language_info": {
   "codemirror_mode": {
    "name": "ipython",
    "version": 3
   },
   "file_extension": ".py",
   "mimetype": "text/x-python",
   "name": "python",
   "nbconvert_exporter": "python",
   "pygments_lexer": "ipython3",
   "version": "3.11.5"
  }
 },
 "nbformat": 4,
 "nbformat_minor": 2
}
